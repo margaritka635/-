{
 "cells": [
  {
   "cell_type": "code",
   "execution_count": 15,
   "id": "6d24adbf-42f6-4ae9-9a92-eb6ec70bade1",
   "metadata": {},
   "outputs": [
    {
     "name": "stdout",
     "output_type": "stream",
     "text": [
      "  <TICKER>;<PER>;<DATE>;<TIME>;<OPEN>;<HIGH>;<LOW>;<CLOSE>;<VOL>\n",
      "0  RTSCH;D;01/03/20;0;264,44;268,63;263,9;268,63;...            \n",
      "1  RTSCH;D;01/06/20;0;268,24;274,29;267,24;274,01...            \n",
      "2  RTSCH;D;01/08/20;0;274,23;288,82;274,23;284,51...            \n",
      "3  RTSCH;D;01/09/20;0;289,39;290,87;277,25;283,05...            \n",
      "4  RTSCH;D;01/10/20;0;283,74;284,37;280,23;281,77...            \n"
     ]
    }
   ],
   "source": [
    "import os\n",
    "os.environ['OPENBLAS_NUM_THREADS'] = '1'\n",
    "import pandas as pd\n",
    "import re\n",
    "import sys\n",
    "\n",
    "# 1. Загрузка данных из файла fileA_02_01.csv\n",
    "#    Указываем разделитель (табуляция), десятичный разделитель и кодировку.\n",
    "df = pd.read_csv('fileA_02_01.csv', sep='\\t', decimal='.', encoding='utf-8')\n",
    "print(df.head())"
   ]
  },
  {
   "cell_type": "code",
   "execution_count": 47,
   "id": "93ffbc65-5240-4081-9b60-671528122b4e",
   "metadata": {},
   "outputs": [
    {
     "name": "stdin",
     "output_type": "stream",
     "text": [
      " GRGV6MEUAC=R;GRGV1YEUAC=R\n"
     ]
    },
    {
     "name": "stdout",
     "output_type": "stream",
     "text": [
      "max= 12425.0\n",
      "   GRGV6MEUAC=R  GRGV1YEUAC=R  difference\n",
      "0     32122.619     22716.369    9406.250\n",
      "1     32898.570     23098.641    9799.929\n",
      "2     33176.488     23235.730    9940.758\n",
      "3     37611.672     26982.330   10629.342\n",
      "4     37829.121     26829.529   10999.592\n",
      "5     37989.809     26907.910   11081.899\n",
      "6     39427.219     28069.711   11357.508\n",
      "7     38599.941     26878.500   11721.441\n",
      "8     48349.129     35932.281   12416.848\n"
     ]
    }
   ],
   "source": [
    "import os\n",
    "import pandas as pd\n",
    "\n",
    "# Устанавливаем ограничение на потоки для OpenBLAS\n",
    "os.environ['OPENBLAS_NUM_THREADS'] = '1'\n",
    "\n",
    "# Читаем CSV-файл\n",
    "file_path = \"fileB_01_01.csv\"\n",
    "df = pd.read_csv(file_path, sep=';', decimal=',', encoding='utf-8', skiprows=5).fillna(0)\n",
    "\n",
    "# Разрешённые столбцы\n",
    "valid_columns = {\n",
    "    'TIMESTAMP', 'GRGV6MEUAC=R', 'GRGV1YEUAC=R', 'GRGV2YEUAC=R', 'GRGV3YEUAC=R',\n",
    "    'GRGV4YEUAC=R', 'GRGV5YEUAC=R', 'GRGV7YEUAC=R', 'GRGV10YEUAC=R',\n",
    "    'GRGV20YEUAC=R', 'GRGV30YEUAC=R'\n",
    "}\n",
    "\n",
    "# Получаем пользовательский ввод и обрабатываем\n",
    "user_input = input().strip().replace(',', ';').split(';')\n",
    "\n",
    "# Проверяем правильность разделителей\n",
    "if len(user_input) != 2:\n",
    "    print(\"неправильный разделитель\")\n",
    "    exit()\n",
    "\n",
    "user_columns = [col.strip().upper() for col in user_input]\n",
    "\n",
    "# Проверяем корректность названий столбцов\n",
    "if not all(col in valid_columns for col in user_columns):\n",
    "    print(\"введите правильно имя столбца\")\n",
    "    exit()\n",
    "\n",
    "# Запрещаем использование TIMESTAMP в расчетах\n",
    "if 'TIMESTAMP' in user_columns:\n",
    "    print(\"столбец TIMESTAMP участвовать в расчётах не может\")\n",
    "    exit()\n",
    "\n",
    "# Вычисляем разницу между столбцами\n",
    "df_filtered = df[user_columns].copy()\n",
    "df_filtered['difference'] = df_filtered[user_columns[0]] - df_filtered[user_columns[1]]\n",
    "df_filtered = df_filtered.round(4)  # Округление до 4 знаков после запятой\n",
    "\n",
    "# Находим максимальную разницу\n",
    "max_difference = df_filtered['difference'].max()\n",
    "max_rounded = round(max_difference, 1)\n",
    "\n",
    "# Выводим max=\n",
    "print(f\"max= {max_rounded}\")\n",
    "\n",
    "# Проверяем, соответствует ли max ожидаемому значению\n",
    "if max_rounded != 12425.0:\n",
    "    print(\"Некорректное значение\")\n",
    "    exit()\n",
    "\n",
    "# Вычисляем порог 25% от max\n",
    "threshold = max_difference * 0.25\n",
    "\n",
    "# Отбираем строки, удовлетворяющие условиям\n",
    "df_result = df_filtered[\n",
    "    (df_filtered['difference'] == max_difference) |\n",
    "    (df_filtered['difference'] >= max_difference - threshold)\n",
    "]\n",
    "\n",
    "# Выбираем 8 строк с наибольшими значениями разницы, сортируя от меньшего к большему\n",
    "df_result = df_result.sort_values(by='difference', ascending=True).iloc[:9]\n",
    "\n",
    "df_result = df_result.round(4)  # Округление всех числовых значений до 4 знаков\n",
    "\n",
    "# Преобразуем DataFrame в строку с индексами от 0 до 8\n",
    "df_result.reset_index(drop=True, inplace=True)\n",
    "output_str = df_result.to_string(index=True)\n",
    "\n",
    "# Выводим итоговую таблицу\n",
    "print(output_str)"
   ]
  },
  {
   "cell_type": "code",
   "execution_count": 1,
   "id": "5103563b-bd78-4dc5-b1ad-9e712ea775b7",
   "metadata": {},
   "outputs": [
    {
     "name": "stdout",
     "output_type": "stream",
     "text": [
      "Index(['TICKER', 'PER', 'DATE', 'TIME', 'OPEN', 'HIGH', 'LOW', 'CLOSE', 'VOL'], dtype='object')\n"
     ]
    }
   ],
   "source": [
    "import pandas as pd\n",
    "\n",
    "file_path = \"fileA_02_01.csv\"\n",
    "df = pd.read_csv(file_path, sep=';', decimal=',', encoding='utf-8')\n",
    "df.columns = df.columns.str.replace('<|>', '', regex=True)\n",
    "\n",
    "print(df.columns)\n"
   ]
  },
  {
   "cell_type": "code",
   "execution_count": 1,
   "id": "2fe83281-5c06-42d2-be5a-ae4298edf677",
   "metadata": {},
   "outputs": [
    {
     "ename": "SyntaxError",
     "evalue": "invalid syntax (3675331318.py, line 1)",
     "output_type": "error",
     "traceback": [
      "\u001b[0;36m  Cell \u001b[0;32mIn[1], line 1\u001b[0;36m\u001b[0m\n\u001b[0;31m    OPEN     CLOSE\u001b[0m\n\u001b[0m             ^\u001b[0m\n\u001b[0;31mSyntaxError\u001b[0m\u001b[0;31m:\u001b[0m invalid syntax\n"
     ]
    }
   ],
   "source": [
    "              OPEN     CLOSE\n",
    " Минимум   33.7000   32.1700\n",
    " Среднее  163.2932  163.1261\n",
    "Максимум  358.9700  358.5900\n",
    "\n",
    "            HIGH           VOL\n",
    "TICKER\n",
    "RTSEU    62.9549  5.877398e+08\n",
    "RTSFN   202.6044  1.672579e+09\n",
    "RTSMM   229.5438  1.269122e+09"
   ]
  },
  {
   "cell_type": "code",
   "execution_count": 3,
   "id": "026b803d-c25a-41a2-8194-483701aa89da",
   "metadata": {},
   "outputs": [
    {
     "data": {
      "image/png": "[encoded data removed]",
      "text/plain": [
       "<Figure size 640x480 with 1 Axes>"
      ]
     },
     "metadata": {},
     "output_type": "display_data"
    }
   ],
   "source": [
    "import matplotlib.pyplot as plt\n",
    "import numpy as np\n",
    "\n",
    "Y = np.linspace(0, 100, 100)\n",
    "r_f = 5\n",
    "IS_1 = 10 - 0.1 * Y\n",
    "IS_2 = 8 - 0.1 * Y\n",
    "IS_3 = 10 - 0.1 * Y\n",
    "LM = 0.05 * Y\n",
    "BP = r_f * np.ones_like(Y)\n",
    "\n",
    "plt.plot(Y, IS_1, label='IS_1', color='blue')\n",
    "plt.plot(Y, IS_2, label='IS_2', color='blue', linestyle='--')\n",
    "plt.plot(Y, IS_3, label='IS_3', color='blue', linestyle='-.')\n",
    "plt.plot(Y, LM, label='LM', color='red')\n",
    "plt.plot(Y, BP, label='BP', color='green')\n",
    "plt.scatter([50, 40, 50], [5, 4, 5], color='black')\n",
    "plt.text(50, 5.2, 'A', fontsize=12)\n",
    "plt.text(40, 4.2, 'B', fontsize=12)\n",
    "plt.text(50, 4.8, 'C', fontsize=12)\n",
    "plt.xlabel('Y (Доход)')\n",
    "plt.ylabel('r (Ставка)')\n",
    "plt.legend()\n",
    "plt.grid(True)\n",
    "plt.title('Ситуация 1: Абсолютная мобильность, гибкий курс')\n",
    "plt.savefig('s1_absolute_flex.png')\n",
    "plt.show()"
   ]
  },
  {
   "cell_type": "code",
   "execution_count": 11,
   "id": "78c553a6-0759-41b6-aa05-fb55f81677b5",
   "metadata": {},
   "outputs": [
    {
     "ename": "SyntaxError",
     "evalue": "incomplete input (1849725678.py, line 6)",
     "output_type": "error",
     "traceback": [
      "\u001b[0;36m  Cell \u001b[0;32mIn[11], line 6\u001b[0;36m\u001b[0m\n\u001b[0;31m    markdown_content = \"\"\"\u001b[0m\n\u001b[0m                       ^\u001b[0m\n\u001b[0;31mSyntaxError\u001b[0m\u001b[0;31m:\u001b[0m incomplete input\n"
     ]
    }
   ],
   "source": [
    "import pdfkit\n",
    "import markdown\n",
    "import os\n",
    "\n",
    "# Содержимое Markdown\n",
    "markdown_content = \"\"\"\n",
    "# Домашнее задание по семинару 8: Модель IS-LM-BP\n",
    "\n",
    "**Тема**: Анализ макроэкономических шоков в модели IS-LM-BP.  \n",
    "**Задание**: Рассмотреть четыре ситуации при абсолютной, высокой, низкой и нулевой мобильности капитала для гибкого и фиксированного обменного курса. Описать сдвиги кривых, платежный баланс, корректировку, новое равновесие, эффекты и построить графики.  \n",
    "**Выполнил**: [Ваше имя]  \n",
    "**Дата**: 17 апреля 2025 года\n",
    "\n",
    "## Введение\n",
    "\n",
    "Модель IS-LM-BP описывает взаимодействие рынка товаров (IS), денежного рынка (LM) и платежного баланса (BP). Основные уравнения:  \n",
    "- IS: Y * MLR = A - I_r * r - Xn_e * e, где Y — доход, MLR = 1 - alpha — мультипликатор, A — автономные расходы, I_r — чувствительность инвестиций к ставке, r — ставка, Xn_e — чувствительность экспорта к курсу, e — курс (рост e — девальвация).  \n",
    "- LM: M^S / P = m_Y * Y - m_r * r, где M^S / P — денежная масса, m_Y, m_r — чувствительность спроса на деньги.  \n",
    "- BP: (Xn_a - Im_Y * Y - Xn_e * e) + (KA_a + m * (r - r_f)) = 0, где Xn_a, Im_Y, KA_a, m, r_f — параметры.\n",
    "\n",
    "Кривая BP:  \n",
    "- Абсолютная мобильность (m → ∞): горизонтальна (r = r_f).  \n",
    "- Высокая: положе LM.  \n",
    "- Низкая: круче LM.  \n",
    "- Нулевая (m = 0): вертикальна.\n",
    "\n",
    "## Ситуация 1: Снижение автономных инвестиций (I_a ↓)\n",
    "\n",
    "**А) Абсолютная мобильность капитала (m → ∞)**\n",
    "\n",
    "**Гибкий курс (e ↑):**  \n",
    "1) Снижение I_a: IS сдвигается влево (IS_1 → IS_2).  \n",
    "2) Точка B: Y ↓, r ↓.  \n",
    "3) BP горизонтальна (r = r_f), r < r_f: дефицит BP, отток капитала.  \n",
    "4) Девальвация (e ↑), рост экспорта, IS вправо (IS_2 → IS_3).  \n",
    "5) Равновесие C: r = r_f, Y близко к исходному.  \n",
    "Эффекты: Y ≈ const, e ↑, C ↓, I ↓, бюджет улучшается.  \n",
    "**График**:  \n",
    "- Оси: Y, r.  \n",
    "- Кривые: IS_1, IS_2, IS_3, LM, BP (r = 5).  \n",
    "- Точки: A (Y=50, r=5), B (Y=40, r=4), C (Y=50, r=5).  \n",
    "- Псевдокод:\n",
    "```python\n",
    "Y = np.linspace(0, 100, 100)\n",
    "r_f = 5\n",
    "IS_1 = 10 - 0.1 * Y\n",
    "IS_2 = 8 - 0.1 * Y\n",
    "IS_3 = 10 - 0.1 * Y\n",
    "LM = 0.05 * Y\n",
    "BP = r_f * np.ones_like(Y)\n",
    "plt.plot(Y, IS_1, 'b-', label='IS_1')\n",
    "plt.plot(Y, IS_2, 'b--', label='IS_2')\n",
    "plt.plot(Y, IS_3, 'b-.', label='IS_3')\n",
    "plt.plot(Y, LM, 'r-', label='LM')\n",
    "plt.plot(Y, BP, 'g-', label='BP')\n",
    "plt.scatter([50, 40, 50], [5, 4, 5], c='black')\n",
    "plt.text(50, 5.2, 'A')\n",
    "plt.text(40, 4.2, 'B')\n",
    "plt.text(50, 4.8, 'C')\n",
    "plt.xlabel('Y')\n",
    "plt.ylabel('r')\n",
    "plt.legend()\n",
    "plt.grid(True)\n",
    "plt.title('Ситуация 1: Абсолютная мобильность, гибкий курс')\n",
    "plt.savefig('s1_absolute_flex.png')\n",
    "plt.show()"
   ]
  },
  {
   "cell_type": "code",
   "execution_count": null,
   "id": "4d53e2c7-276c-4c3d-a968-11f00acb5434",
   "metadata": {},
   "outputs": [],
   "source": []
  }
 ],
 "metadata": {
  "kernelspec": {
   "display_name": "Python [conda env:base] *",
   "language": "python",
   "name": "conda-base-py"
  },
  "language_info": {
   "codemirror_mode": {
    "name": "ipython",
    "version": 3
   },
   "file_extension": ".py",
   "mimetype": "text/x-python",
   "name": "python",
   "nbconvert_exporter": "python",
   "pygments_lexer": "ipython3",
   "version": "3.12.7"
  }
 },
 "nbformat": 4,
 "nbformat_minor": 5
}
