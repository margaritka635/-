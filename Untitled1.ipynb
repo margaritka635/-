{
 "cells": [
  {
   "cell_type": "code",
   "execution_count": null,
   "id": "7904147c-6603-4f12-a1d7-a685b068c958",
   "metadata": {},
   "outputs": [],
   "source": []
  }
 ],
 "metadata": {
  "kernelspec": {
   "display_name": "",
   "name": ""
  },
  "language_info": {
   "name": ""
  }
 },
 "nbformat": 4,
 "nbformat_minor": 5
}
