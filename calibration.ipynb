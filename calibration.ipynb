{
 "cells": [
  {
   "cell_type": "markdown",
   "id": "396eb0cc-b40c-49bc-b0ae-5e256be99881",
   "metadata": {},
   "source": [
    "smote - исскуственная догенерация объектов класса"
   ]
  },
  {
   "cell_type": "markdown",
   "id": "abebcf7f-a7a4-4996-92a1-2f57f6055e00",
   "metadata": {},
   "source": [
    "smote добавляет в дату данные по центральной опоре трех точек"
   ]
  },
  {
   "cell_type": "code",
   "execution_count": null,
   "id": "64bdf035-7fec-4e64-a158-24820c9f4dff",
   "metadata": {},
   "outputs": [],
   "source": []
  }
 ],
 "metadata": {
  "kernelspec": {
   "display_name": "Python [conda env:base] *",
   "language": "python",
   "name": "conda-base-py"
  },
  "language_info": {
   "codemirror_mode": {
    "name": "ipython",
    "version": 3
   },
   "file_extension": ".py",
   "mimetype": "text/x-python",
   "name": "python",
   "nbconvert_exporter": "python",
   "pygments_lexer": "ipython3",
   "version": "3.12.7"
  }
 },
 "nbformat": 4,
 "nbformat_minor": 5
}
