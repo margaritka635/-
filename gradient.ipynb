{
 "cells": [
  {
   "cell_type": "code",
   "execution_count": 41,
   "id": "612bf627-76a7-482d-a581-a36436bbb8e2",
   "metadata": {},
   "outputs": [],
   "source": [
    "import numpy as np\n",
    "# y = x ** 2"
   ]
  },
  {
   "cell_type": "code",
   "execution_count": 55,
   "id": "8283a107-7a90-46fe-89ec-4b8b4b86cca8",
   "metadata": {},
   "outputs": [
    {
     "name": "stdout",
     "output_type": "stream",
     "text": [
      "[1. 2. 4. 6. 7.]\n"
     ]
    }
   ],
   "source": [
    "# np.gradient([], *varargs(шаг), axis=None, edge_order=1) \n",
    "x = np.array([0, 1, 2, 3, 4])\n",
    "grad = np.gradient(x**2)\n",
    "print(grad)"
   ]
  },
  {
   "cell_type": "code",
   "execution_count": 59,
   "id": "bb318746-5b77-4e74-8a0c-e0052919d217",
   "metadata": {},
   "outputs": [
    {
     "name": "stdout",
     "output_type": "stream",
     "text": [
      "[6]\n"
     ]
    }
   ],
   "source": [
    "def grad_fun(x1, c1 = 1, c2 = 1):\n",
    "    d1 = 2 * x1\n",
    "    # d2 = 2 * c2 * x2\n",
    "    return np.array([d1])\n",
    "print(grad_fun(3))"
   ]
  },
  {
   "cell_type": "code",
   "execution_count": 47,
   "id": "d9ddc9c3-512f-4be9-9890-55e8cf2f70c3",
   "metadata": {},
   "outputs": [],
   "source": [
    "def grad_dencend(grad_fun, step_size=0.1, num_steps=50):\n",
    "    x = np.random.rand(2)  \n",
    "    \n",
    "    t = [x.copy()]\n",
    "\n",
    "    for _ in range(num_steps):\n",
    "        grad = grad_fun(x[0], x[1]) \n",
    "        x = x - step_size * grad \n",
    "        t.append(x.copy())\n",
    "\n",
    "    return np.array(t)\n"
   ]
  },
  {
   "cell_type": "code",
   "execution_count": 49,
   "id": "73911ffa-e3a3-47c7-b556-2002ad5ef237",
   "metadata": {},
   "outputs": [
    {
     "name": "stdout",
     "output_type": "stream",
     "text": [
      "[[9.07307491e-01 3.67806262e-01]\n",
      " [7.25845993e-01 2.94245009e-01]\n",
      " [5.80676794e-01 2.35396008e-01]\n",
      " [4.64541435e-01 1.88316806e-01]\n",
      " [3.71633148e-01 1.50653445e-01]\n",
      " [2.97306519e-01 1.20522756e-01]\n",
      " [2.37845215e-01 9.64182047e-02]\n",
      " [1.90276172e-01 7.71345638e-02]\n",
      " [1.52220938e-01 6.17076510e-02]\n",
      " [1.21776750e-01 4.93661208e-02]\n",
      " [9.74214000e-02 3.94928966e-02]\n",
      " [7.79371200e-02 3.15943173e-02]\n",
      " [6.23496960e-02 2.52754539e-02]\n",
      " [4.98797568e-02 2.02203631e-02]\n",
      " [3.99038054e-02 1.61762905e-02]\n",
      " [3.19230444e-02 1.29410324e-02]\n",
      " [2.55384355e-02 1.03528259e-02]\n",
      " [2.04307484e-02 8.28226072e-03]\n",
      " [1.63445987e-02 6.62580857e-03]\n",
      " [1.30756790e-02 5.30064686e-03]\n",
      " [1.04605432e-02 4.24051749e-03]\n",
      " [8.36843454e-03 3.39241399e-03]\n",
      " [6.69474763e-03 2.71393119e-03]\n",
      " [5.35579811e-03 2.17114495e-03]\n",
      " [4.28463848e-03 1.73691596e-03]\n",
      " [3.42771079e-03 1.38953277e-03]\n",
      " [2.74216863e-03 1.11162622e-03]\n",
      " [2.19373490e-03 8.89300973e-04]\n",
      " [1.75498792e-03 7.11440778e-04]\n",
      " [1.40399034e-03 5.69152623e-04]\n",
      " [1.12319227e-03 4.55322098e-04]\n",
      " [8.98553817e-04 3.64257679e-04]\n",
      " [7.18843053e-04 2.91406143e-04]\n",
      " [5.75074443e-04 2.33124914e-04]\n",
      " [4.60059554e-04 1.86499931e-04]\n",
      " [3.68047643e-04 1.49199945e-04]\n",
      " [2.94438115e-04 1.19359956e-04]\n",
      " [2.35550492e-04 9.54879649e-05]\n",
      " [1.88440393e-04 7.63903719e-05]\n",
      " [1.50752315e-04 6.11122975e-05]\n",
      " [1.20601852e-04 4.88898380e-05]\n",
      " [9.64814814e-05 3.91118704e-05]\n",
      " [7.71851851e-05 3.12894963e-05]\n",
      " [6.17481481e-05 2.50315971e-05]\n",
      " [4.93985185e-05 2.00252777e-05]\n",
      " [3.95188148e-05 1.60202221e-05]\n",
      " [3.16150518e-05 1.28161777e-05]\n",
      " [2.52920415e-05 1.02529422e-05]\n",
      " [2.02336332e-05 8.20235373e-06]\n",
      " [1.61869065e-05 6.56188298e-06]\n",
      " [1.29495252e-05 5.24950639e-06]]\n"
     ]
    }
   ],
   "source": [
    "print(grad_dencend(grad_fun))"
   ]
  },
  {
   "cell_type": "code",
   "execution_count": null,
   "id": "9616ddf7-7890-4f6c-b2ba-879b3ca2d4c5",
   "metadata": {},
   "outputs": [],
   "source": []
  },
  {
   "cell_type": "code",
   "execution_count": null,
   "id": "6df840c0-877e-45e2-b949-a7469f76acd2",
   "metadata": {},
   "outputs": [],
   "source": []
  }
 ],
 "metadata": {
  "kernelspec": {
   "display_name": "Python [conda env:base] *",
   "language": "python",
   "name": "conda-base-py"
  },
  "language_info": {
   "codemirror_mode": {
    "name": "ipython",
    "version": 3
   },
   "file_extension": ".py",
   "mimetype": "text/x-python",
   "name": "python",
   "nbconvert_exporter": "python",
   "pygments_lexer": "ipython3",
   "version": "3.12.7"
  }
 },
 "nbformat": 4,
 "nbformat_minor": 5
}
